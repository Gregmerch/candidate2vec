{
 "cells": [
  {
   "cell_type": "code",
   "execution_count": null,
   "metadata": {
    "collapsed": false
   },
   "outputs": [],
   "source": [
    "from bs4 import BeautifulSoup\n",
    "import urllib2\n",
    "import requests\n",
    "import numpy as np\n",
    "import re\n",
    "import pandas as pd\n",
    "from itertools import chain\n",
    "#from spacy.en import English\n",
    "#from __future__ import print_function\n",
    "#import gensim"
   ]
  },
  {
   "cell_type": "code",
   "execution_count": null,
   "metadata": {
    "collapsed": true
   },
   "outputs": [],
   "source": [
    "def SoupMaker(url):\n",
    "    opener = urllib2.build_opener()\n",
    "    opener.addheaders = [('User-agent', 'Mozilla/43.0.3')]\n",
    "    response = opener.open(url)\n",
    "    page = response.read()\n",
    "    return BeautifulSoup(page,'html5lib')"
   ]
  },
  {
   "cell_type": "code",
   "execution_count": null,
   "metadata": {
    "collapsed": false
   },
   "outputs": [],
   "source": [
    "base = 'http://www.c-span.org/search/?searchtype=Videos&sort=Most+Recent+Airing&seriesid[]=91&sdate=&edate=&searchtype=Videos&sort=Most+Recent+Airing&text=0&seriesid%5B%5D=91&ajax&page='\n",
    "base_range = xrange(1,57)\n",
    "base_scrapes = [base+str(a) for a in base_range]\n",
    "base_soups = pd.Series(base_scrapes).apply(SoupMaker)"
   ]
  },
  {
   "cell_type": "code",
   "execution_count": null,
   "metadata": {
    "collapsed": false
   },
   "outputs": [],
   "source": [
    "anchors_nested = [a.find('ul',{'class':'video-results'}).findAll('a',{'class':'title'}) for a in base_soups]\n",
    "anchors = list(chain(*anchors_nested))\n",
    "urls = [a['href'] for a in anchors]"
   ]
  },
  {
   "cell_type": "code",
   "execution_count": null,
   "metadata": {
    "collapsed": true
   },
   "outputs": [],
   "source": [
    "req_end = '&action=getTranscript&transcriptType=cc&service-url=%2Fcommon%2Fservices%2FprogramSpeakers.php&progid=440129&appearance-filter=&personSkip=0&ccSkip=0&transcriptSpeaker=&transcriptQuery='\n",
    "url_series = pd.Series(urls)\n",
    "req_series = url_series + req_end\n",
    "text_series = req_series.apply(SoupMaker)\n",
    "all_tds = [a.findAll('td',{'class':None}) for a in list(text_series)]\n",
    "all_tds_series = pd.Series(all_tds)"
   ]
  },
  {
   "cell_type": "code",
   "execution_count": null,
   "metadata": {
    "collapsed": true
   },
   "outputs": [],
   "source": [
    "def parse_cell(cell):\n",
    "    if cell:\n",
    "        speaker = cell.find('strong').text\n",
    "        ft = cell.text\n",
    "        text = ft[ft.find(speaker)+len(speaker):]\n",
    "        return (speaker,text)"
   ]
  },
  {
   "cell_type": "code",
   "execution_count": null,
   "metadata": {
    "collapsed": true
   },
   "outputs": [],
   "source": [
    "def full_transcript(ser):\n",
    "    new_ser = ser[ser.notnull()]\n",
    "    transcript = ''\n",
    "    for i in new_ser.iteritems():\n",
    "        transcript += i[1].text\n",
    "    return transcript\n",
    "    "
   ]
  },
  {
   "cell_type": "code",
   "execution_count": null,
   "metadata": {
    "collapsed": false
   },
   "outputs": [],
   "source": [
    "all_td_df = all_tds_series.apply(list).apply(pd.Series).T\n",
    "transcript_series = all_td_df.apply(full_transcript)"
   ]
  },
  {
   "cell_type": "code",
   "execution_count": null,
   "metadata": {
    "collapsed": true
   },
   "outputs": [],
   "source": [
    "def get_title(x):\n",
    "    return x[x.rfind('/')+1:]"
   ]
  },
  {
   "cell_type": "code",
   "execution_count": null,
   "metadata": {
    "collapsed": false
   },
   "outputs": [],
   "source": [
    "titles = url_series.apply(get_title)"
   ]
  },
  {
   "cell_type": "markdown",
   "metadata": {},
   "source": [
    "# Save output (so we don't have to scrape again...)"
   ]
  },
  {
   "cell_type": "code",
   "execution_count": null,
   "metadata": {
    "collapsed": true
   },
   "outputs": [],
   "source": [
    "out_df = pd.DataFrame([titles,transcript_series]).T\n",
    "out_df.columns = ['title','transcript']"
   ]
  },
  {
   "cell_type": "code",
   "execution_count": null,
   "metadata": {
    "collapsed": false
   },
   "outputs": [],
   "source": [
    "text_series.to_csv('all_text.csv',encoding='utf-8')"
   ]
  },
  {
   "cell_type": "code",
   "execution_count": null,
   "metadata": {
    "collapsed": false
   },
   "outputs": [],
   "source": [
    "out_df.to_csv('trimmed_columns.csv',encoding='utf-8')"
   ]
  },
  {
   "cell_type": "markdown",
   "metadata": {},
   "source": [
    "### Starting here is a different way of formulating transcripts. Ended up abandoning based on issues where speakers were never identified. Need to build automated system to detect when a speaker isn't correctly identified and flag for manual review"
   ]
  },
  {
   "cell_type": "code",
   "execution_count": null,
   "metadata": {
    "collapsed": true
   },
   "outputs": [],
   "source": [
    "candiate_list = ['Bernie Sanders','Hillary Clinton','Donald Trump','Ted Cruz','John Kaisch','Marco Rubio']\n",
    "re_candidate_test =  \"/\"+' '.join(candiate_list).replace(' ','|').upper()+\"/\""
   ]
  },
  {
   "cell_type": "markdown",
   "metadata": {},
   "source": [
    "##### Below is a different build transcript that relies on whom the speaker is"
   ]
  },
  {
   "cell_type": "code",
   "execution_count": null,
   "metadata": {
    "collapsed": false
   },
   "outputs": [],
   "source": [
    "def build_transcript(tuple_list,re_pat):\n",
    "    speakers = [a[0].upper() for a in tuple_list]\n",
    "    text = [a[1] for a in tuple_list]\n",
    "    result = ''\n",
    "    for i in xrange(0,len(text)):\n",
    "        if re.search(re_candidate_test,str(speakers[i])):\n",
    "            result += text[i]\n",
    "        else:\n",
    "            pass\n",
    "    return result"
   ]
  }
 ],
 "metadata": {
  "kernelspec": {
   "display_name": "Python 2",
   "language": "python",
   "name": "python2"
  },
  "language_info": {
   "codemirror_mode": {
    "name": "ipython",
    "version": 2
   },
   "file_extension": ".py",
   "mimetype": "text/x-python",
   "name": "python",
   "nbconvert_exporter": "python",
   "pygments_lexer": "ipython2",
   "version": "2.7.11"
  }
 },
 "nbformat": 4,
 "nbformat_minor": 0
}
